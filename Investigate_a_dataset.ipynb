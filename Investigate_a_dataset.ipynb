{
  "nbformat": 4,
  "nbformat_minor": 0,
  "metadata": {
    "colab": {
      "name": "Investigate_a_dataset.ipynb",
      "provenance": [],
      "mount_file_id": "1KyEeoZJo-MSQbXxaFsolNXFij3VWIhmd",
      "authorship_tag": "ABX9TyO7UWWDlJFWEM5pWFHwzql7",
      "include_colab_link": true
    },
    "kernelspec": {
      "name": "python3",
      "display_name": "Python 3"
    },
    "language_info": {
      "name": "python"
    }
  },
  "cells": [
    {
      "cell_type": "markdown",
      "metadata": {
        "id": "view-in-github",
        "colab_type": "text"
      },
      "source": [
        "<a href=\"https://colab.research.google.com/github/opeyemijoseph/notebooks/blob/main/Investigate_a_dataset.ipynb\" target=\"_parent\"><img src=\"https://colab.research.google.com/assets/colab-badge.svg\" alt=\"Open In Colab\"/></a>"
      ]
    },
    {
      "cell_type": "markdown",
      "source": [
        "Dataset Used: FBI Gun Dataset\n",
        "> Questions Posed: WHAT IS THE FREQUENCY FOR THE PURCHASE OF HAND GUN COMPARED TO LONG GUNS\n",
        "\n",
        "> QUESTION- WHAT ARE THE TOP 3 TIMES(YEARS) HAND GUNS WERE PURCHASED?\n",
        "\n",
        "\n",
        "> QUESTION- WHAT ARE THE LEAST 3 TIMES(YEARS) HAND GUNS WERE PURCHASED?\n",
        "\n",
        "WHAT I DID? I imported, cleaned, aggregate, and plot chart for the data, \n",
        "\n",
        "CHARTS: Relationship between handgnu and longgun, summary of permit vs totals.\n",
        "\n",
        "WEBSITES AND BOOKS: https://medium.com, https://seaborn.pydata.org/, https://pandas.pydata.org/docs/\n",
        "\n",
        "\n",
        "\n",
        "\n",
        "\n",
        "\n",
        "\n"
      ],
      "metadata": {
        "id": "kdbp93k8Vz_x"
      }
    },
    {
      "cell_type": "code",
      "execution_count": null,
      "metadata": {
        "id": "fVVfYj3of67X"
      },
      "outputs": [],
      "source": [
        "#IMPORTING LIBRARIES\n",
        "import matplotlib.pyplot as plt\n",
        "%matplotlib inline\n",
        "import seaborn as sns\n",
        "import numpy as np\n",
        "import pandas as pd"
      ]
    },
    {
      "cell_type": "markdown",
      "source": [
        "**FBI GUN DATASET**\n",
        "Importing the excel dataset into the dataframe using pandas. "
      ],
      "metadata": {
        "id": "RpDgDYgLiI48"
      }
    },
    {
      "cell_type": "code",
      "source": [
        "#drive url were the data exist\n",
        "link = '/content/drive/MyDrive/Colab Notebooks/gun_data.xlsx'\n",
        "df = pd.read_excel(link)\n",
        "df.head(10)"
      ],
      "metadata": {
        "id": "5kkaw9BQiZIB"
      },
      "execution_count": null,
      "outputs": []
    },
    {
      "cell_type": "code",
      "source": [
        "#data preview by sampling\n",
        "df.sample(10)"
      ],
      "metadata": {
        "id": "WsRwl8Fljp68"
      },
      "execution_count": null,
      "outputs": []
    },
    {
      "cell_type": "code",
      "source": [
        "#checking the datatypes to see which data my need casting\n",
        "df.dtypes"
      ],
      "metadata": {
        "id": "66OUTqMEmz-3"
      },
      "execution_count": null,
      "outputs": []
    },
    {
      "cell_type": "code",
      "source": [
        "#casting the the \"month\" column to make it date time\n",
        "df[\"month\"] = pd.to_datetime(df[\"month\"])"
      ],
      "metadata": {
        "id": "8mxGSVQRnD8G"
      },
      "execution_count": null,
      "outputs": []
    },
    {
      "cell_type": "code",
      "source": [
        "#rechecking data types\n",
        "df.dtypes"
      ],
      "metadata": {
        "id": "Jb2u_CzVNm3K"
      },
      "execution_count": null,
      "outputs": []
    },
    {
      "cell_type": "code",
      "source": [
        "df.isnull().any()"
      ],
      "metadata": {
        "id": "2qfKrCdpnbzM"
      },
      "execution_count": null,
      "outputs": []
    },
    {
      "cell_type": "code",
      "source": [
        "grouped_df = df.groupby(pd.Grouper(key='month', freq='2Y')).sum()\n",
        "grouped_df"
      ],
      "metadata": {
        "id": "ff4jXwCIncBS"
      },
      "execution_count": null,
      "outputs": []
    },
    {
      "cell_type": "code",
      "source": [
        "grouped_df.groupby([\"month\", \"totals\"], as_index=False)[\"handgun\"].count()"
      ],
      "metadata": {
        "id": "DX-6HBco57G0"
      },
      "execution_count": null,
      "outputs": []
    },
    {
      "cell_type": "markdown",
      "source": [
        "**QUESTION- WHAT IS THE FREQUENCY FOR THE PURCHASE OF HAND GUN COMPARED TO LONG GUNS**\n",
        "**FROM THE CHART BELOW IT IS OBVIOUS LONG GUN PURCHASE IS PREVALENT BUT SOME ANOMALLY AROUND 2014 TO 2018**"
      ],
      "metadata": {
        "id": "10sdcZDx3nkc"
      }
    },
    {
      "cell_type": "code",
      "source": [
        "df.plot(x=\"month\", y=[\"handgun\", \"long_gun\"])\n",
        "plt.show()"
      ],
      "metadata": {
        "id": "niyPz0VCRqqj"
      },
      "execution_count": null,
      "outputs": []
    },
    {
      "cell_type": "markdown",
      "source": [
        "**THIS IS A FLIP SIDE OF THE CHART ABOVE**"
      ],
      "metadata": {
        "id": "DsetGWUP4A8W"
      }
    },
    {
      "cell_type": "code",
      "source": [
        "df.plot(x=\"month\", y=[\"long_gun\", \"handgun\"])\n",
        "plt.show()"
      ],
      "metadata": {
        "id": "7wRRdcpzSU4o"
      },
      "execution_count": null,
      "outputs": []
    },
    {
      "cell_type": "code",
      "source": [
        ""
      ],
      "metadata": {
        "id": "dD1cFNPs3bxn"
      },
      "execution_count": null,
      "outputs": []
    },
    {
      "cell_type": "markdown",
      "source": [
        "**QUESTION- WHAT IS THE TOP 3 TIMES HAND GUNS WERE PURCHASED?**\n",
        "**FROM THE CODE BELOW: 2016, 2014 THEN 2012**"
      ],
      "metadata": {
        "id": "tteslNU-3EUu"
      }
    },
    {
      "cell_type": "code",
      "source": [
        "hand_gun = grouped_df[\"handgun\"]\n",
        "top_3 = grouped_df.sort_values(by=\"handgun\", ascending=False).head(3)\n",
        "top_3"
      ],
      "metadata": {
        "id": "PD3B7V_oXcM2"
      },
      "execution_count": null,
      "outputs": []
    },
    {
      "cell_type": "markdown",
      "source": [
        "**QUESTION- WHAT IS THE LEAST 3 TIMES HAND GUNS WERE PURCHASED?**\n",
        "**FROM THE CODE BELOW: 1998, 2004 THEN 2002**"
      ],
      "metadata": {
        "id": "e6RMhXYuVIAz"
      }
    },
    {
      "cell_type": "code",
      "source": [
        "hand_gun = grouped_df[\"handgun\"]\n",
        "top_3 = grouped_df.sort_values(by=\"handgun\", ascending=True).head(3)\n",
        "top_3"
      ],
      "metadata": {
        "id": "KwRz7_iJ8Yax"
      },
      "execution_count": null,
      "outputs": []
    },
    {
      "cell_type": "code",
      "source": [
        "sns.set(rc={'figure.figsize':(20,5)})\n",
        "ax = sns.barplot(x='totals', y='permit', data=df)\n",
        "ax.tick_params(axis='x', rotation=90)"
      ],
      "metadata": {
        "id": "eVgEkw4cXx7P"
      },
      "execution_count": null,
      "outputs": []
    }
  ]
}